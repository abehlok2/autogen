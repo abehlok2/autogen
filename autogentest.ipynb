{
 "cells": [
  {
   "cell_type": "code",
   "execution_count": null,
   "metadata": {},
   "outputs": [],
   "source": [
    "import autogen\n",
    "from autogen import ConversableAgent\n",
    "import openai\n",
    "import os\n",
    "\n",
    "# API Keys Here: \n",
    "openai_api_key = os.getenv(\"OPENAI_API_KEY\")\n",
    "google_api_key = os.getenv(\"GOOGLE_API_KEY\")"
   ]
  },
  {
   "cell_type": "code",
   "execution_count": null,
   "metadata": {},
   "outputs": [],
   "source": [
    "# Prepare a System Message for the assistant. \n",
    "\n",
    "luna_sys_msg = \\\n",
    "\"\"\"\n",
    "Luna, you are programmed to serve as a specialized assistant for Katy, a 27-year-old 4th-grade teacher in Chili, NY. Your core functions include aiding in lesson planning, grading, and classroom management. Your goal is to provide Katy with accurate, efficient, and context-specific solutions. Prioritize her teaching-related tasks to make her day more manageable.\n",
    "\n",
    "Occasionally, the user may express sadness, or the need for emotional support. Please act empathetically, kindly, warmly, gently, and pragmatically with the user. Help them with their emotional needs as well as their classroom assistance needs.\n",
    "\"\"\""
   ]
  },
  {
   "cell_type": "code",
   "execution_count": null,
   "metadata": {},
   "outputs": [],
   "source": [
    "# GPT Configs \n",
    "\n",
    "code_exe_config = {\n",
    "    \"work_dir\": r\"\\home\\abehl\\Documents\\autogen\",\n",
    "    \"timeout\": 180,\n",
    "    \"last_n_messages\": 5    \n",
    "}\n",
    "\n",
    "gpt4_config = {\n",
    "    \"model\": \"gpt-4\",\n",
    "    \"api_key\": os.environ.get(\"OPENAI_API_KEY\"),\n",
    "    \"temperature\": 0.5,\n",
    "    \"api_type\": \"open_ai\",\n",
    "    \"api_base\": \"https://api.openai.com/v1\"\n",
    "    \n",
    "}"
   ]
  },
  {
   "cell_type": "code",
   "execution_count": null,
   "metadata": {},
   "outputs": [],
   "source": [
    "# Create a new \"assistant agent\"\n",
    "\n",
    "\n",
    "luna_assistant = ConversableAgent(\n",
    "    name = \"Luna\",\n",
    "    system_message= luna_sys_msg,\n",
    "    max_consecutive_auto_reply=5,\n",
    "    is_termination_msg=\"stop\",\n",
    "    llm_config=gpt4_config,\n",
    "    code_execution_config=code_exe_config\n",
    ")\n"
   ]
  },
  {
   "cell_type": "code",
   "execution_count": null,
   "metadata": {},
   "outputs": [],
   "source": []
  }
 ],
 "metadata": {
  "language_info": {
   "name": "python"
  },
  "orig_nbformat": 4
 },
 "nbformat": 4,
 "nbformat_minor": 2
}
